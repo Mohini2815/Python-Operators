{
 "cells": [
  {
   "cell_type": "markdown",
   "id": "32120c9c-5986-4226-a998-c3dff26074da",
   "metadata": {},
   "source": [
    "# **Operators**"
   ]
  },
  {
   "cell_type": "markdown",
   "id": "3933be9e-8566-41b8-9824-20e1bf805976",
   "metadata": {},
   "source": [
    "- Python provides a variety of operators that allow you to perform different types of operations on data.\n",
    "- These operators can be categorized into several groups based on their functionality.\n",
    "\n",
    "# ***Arithematic operators***\n"
   ]
  },
  {
   "cell_type": "markdown",
   "id": "3a1d0b8f-c441-433f-ab7d-3849c1c0cdc0",
   "metadata": {},
   "source": [
    "1. **+(Addition)**: Adds two operators "
   ]
  },
  {
   "cell_type": "code",
   "execution_count": 9,
   "id": "383723ef-60db-4e22-ab82-25e8fdd1106a",
   "metadata": {},
   "outputs": [
    {
     "data": {
      "text/plain": [
       "8"
      ]
     },
     "execution_count": 9,
     "metadata": {},
     "output_type": "execute_result"
    }
   ],
   "source": [
    "5 + 3"
   ]
  },
  {
   "cell_type": "markdown",
   "id": "bb7ced8f-3868-47c3-a9e7-9c27dac1172c",
   "metadata": {},
   "source": [
    "2. **- (subtraction)**: subtracts two operand from the left "
   ]
  },
  {
   "cell_type": "code",
   "execution_count": 17,
   "id": "96f3e369-55e5-48fd-8271-df075fdce1e9",
   "metadata": {},
   "outputs": [
    {
     "data": {
      "text/plain": [
       "2"
      ]
     },
     "execution_count": 17,
     "metadata": {},
     "output_type": "execute_result"
    }
   ],
   "source": [
    "5 - 3"
   ]
  },
  {
   "cell_type": "markdown",
   "id": "ace3d5c8-e6c7-403f-a21a-92af52ebba49",
   "metadata": {},
   "source": [
    "3. **(*)(Multiplication)**: multiple two operands "
   ]
  },
  {
   "cell_type": "code",
   "execution_count": 20,
   "id": "91235f30-fbfa-485f-9308-2931d4c474f8",
   "metadata": {},
   "outputs": [
    {
     "data": {
      "text/plain": [
       "15"
      ]
     },
     "execution_count": 20,
     "metadata": {},
     "output_type": "execute_result"
    }
   ],
   "source": [
    "5 * 3"
   ]
  },
  {
   "cell_type": "markdown",
   "id": "972340f6-b311-449d-a212-b9ad9281e9d6",
   "metadata": {},
   "source": [
    "4. **/(division)**: divides the left operand by the right one"
   ]
  },
  {
   "cell_type": "code",
   "execution_count": 23,
   "id": "86be8427-d769-4148-840d-752e5d1d4654",
   "metadata": {},
   "outputs": [
    {
     "data": {
      "text/plain": [
       "1.6666666666666667"
      ]
     },
     "execution_count": 23,
     "metadata": {},
     "output_type": "execute_result"
    }
   ],
   "source": [
    "5 / 3"
   ]
  },
  {
   "cell_type": "markdown",
   "id": "bed9593f-82bc-45fd-af56-59575ac76809",
   "metadata": {},
   "source": [
    "5.**// (Floor division)**: divides and returns the integer value of the quotient. It dumps the digits after decimal."
   ]
  },
  {
   "cell_type": "code",
   "execution_count": 27,
   "id": "1cd4e3d7-c313-447c-a215-d6fc0e1e15c1",
   "metadata": {},
   "outputs": [
    {
     "data": {
      "text/plain": [
       "1"
      ]
     },
     "execution_count": 27,
     "metadata": {},
     "output_type": "execute_result"
    }
   ],
   "source": [
    "5 // 3"
   ]
  },
  {
   "cell_type": "markdown",
   "id": "61912d4c-84da-4fd2-ae1a-cf1d6dc1488c",
   "metadata": {},
   "source": [
    "6. **% (Modulus)**: divides left hand operand by the right hand operand and returns remainder"
   ]
  },
  {
   "cell_type": "code",
   "execution_count": 30,
   "id": "a6e9d90a-aa8b-42b7-a34b-b9e24d696ee6",
   "metadata": {},
   "outputs": [
    {
     "data": {
      "text/plain": [
       "2"
      ]
     },
     "execution_count": 30,
     "metadata": {},
     "output_type": "execute_result"
    }
   ],
   "source": [
    "5 % 3"
   ]
  },
  {
   "cell_type": "markdown",
   "id": "4479bf1f-3ee6-4079-858d-3b954b384bb0",
   "metadata": {},
   "source": [
    "7.**(exponent)**(**):performs exponential(power) calculation on operators."
   ]
  },
  {
   "cell_type": "code",
   "execution_count": 2,
   "id": "781a41b1-7d36-439a-a166-4eb72254168e",
   "metadata": {},
   "outputs": [
    {
     "data": {
      "text/plain": [
       "125"
      ]
     },
     "execution_count": 2,
     "metadata": {},
     "output_type": "execute_result"
    }
   ],
   "source": [
    "5 ** 3"
   ]
  },
  {
   "cell_type": "markdown",
   "id": "437e66cd-8a03-4708-84bb-c731624a3d27",
   "metadata": {},
   "source": [
    "# ***Comparison Operators***:\n",
    "\n",
    "These operators compare the values on either side of them and decide the relation among them.\n",
    "\n",
    "They return True or False according to the condition."
   ]
  },
  {
   "cell_type": "markdown",
   "id": "8a1c1bf9-26d6-4cd8-811b-cb848f7859b9",
   "metadata": {},
   "source": [
    "**==(equal)**: checks if the value of two operands are equal."
   ]
  },
  {
   "cell_type": "code",
   "execution_count": 10,
   "id": "2dc42592-f053-411f-aa09-7e40d5303d3b",
   "metadata": {},
   "outputs": [
    {
     "data": {
      "text/plain": [
       "False"
      ]
     },
     "execution_count": 10,
     "metadata": {},
     "output_type": "execute_result"
    }
   ],
   "source": [
    "5 == 3"
   ]
  },
  {
   "cell_type": "markdown",
   "id": "1af9e039-1518-4013-8fca-2184211e731e",
   "metadata": {},
   "source": [
    "**!=(not equal)**: checks if the values of two operands are not equal."
   ]
  },
  {
   "cell_type": "code",
   "execution_count": 13,
   "id": "784d982f-1646-487d-a4e1-216bdc978bea",
   "metadata": {},
   "outputs": [
    {
     "data": {
      "text/plain": [
       "True"
      ]
     },
     "execution_count": 13,
     "metadata": {},
     "output_type": "execute_result"
    }
   ],
   "source": [
    "5 != 3"
   ]
  },
  {
   "cell_type": "markdown",
   "id": "f305ec0c-6e8e-4f70-be19-08731c5c51d2",
   "metadata": {},
   "source": [
    "**>(Greater than)** : checks if value of the left operand is greater."
   ]
  },
  {
   "cell_type": "code",
   "execution_count": 16,
   "id": "f4825ef0-8cd3-4e7f-b150-83eceafa8aff",
   "metadata": {},
   "outputs": [
    {
     "data": {
      "text/plain": [
       "True"
      ]
     },
     "execution_count": 16,
     "metadata": {},
     "output_type": "execute_result"
    }
   ],
   "source": [
    "5 > 3"
   ]
  },
  {
   "cell_type": "markdown",
   "id": "4cb51fc2-2376-4c2f-83c0-1cff4cbb4ef8",
   "metadata": {},
   "source": [
    "**< (less than)** : checks if value of left operand is lesser."
   ]
  },
  {
   "cell_type": "code",
   "execution_count": 19,
   "id": "e5850ab8-b33e-488f-bf89-6e107fc55c08",
   "metadata": {},
   "outputs": [
    {
     "data": {
      "text/plain": [
       "False"
      ]
     },
     "execution_count": 19,
     "metadata": {},
     "output_type": "execute_result"
    }
   ],
   "source": [
    "5 < 3"
   ]
  },
  {
   "cell_type": "markdown",
   "id": "5839307e-5612-4f72-9ab9-4849a4e1453c",
   "metadata": {},
   "source": [
    "**>= (greater than equal to)**: checks if the left operand is greater than or equal to right. "
   ]
  },
  {
   "cell_type": "code",
   "execution_count": 29,
   "id": "2043d5c5-78ca-4f39-b0dd-d6dea80f8c9d",
   "metadata": {},
   "outputs": [
    {
     "data": {
      "text/plain": [
       "True"
      ]
     },
     "execution_count": 29,
     "metadata": {},
     "output_type": "execute_result"
    }
   ],
   "source": [
    "5 >= 3"
   ]
  },
  {
   "cell_type": "markdown",
   "id": "6466ee94-b414-4f16-884c-3d2592c85be2",
   "metadata": {},
   "source": [
    "**<= (less than or equal to)**: checks if the left operand is lesser than or equal to right."
   ]
  },
  {
   "cell_type": "code",
   "execution_count": 32,
   "id": "79f4b768-5442-4359-9072-49c2ca0aec82",
   "metadata": {},
   "outputs": [
    {
     "data": {
      "text/plain": [
       "False"
      ]
     },
     "execution_count": 32,
     "metadata": {},
     "output_type": "execute_result"
    }
   ],
   "source": [
    "5 <= 3"
   ]
  },
  {
   "cell_type": "markdown",
   "id": "3cac2afb-9239-4d23-ab63-450204487682",
   "metadata": {},
   "source": [
    "# ***Logical Operators***\n",
    "\n",
    "Used to combine conditional statements."
   ]
  },
  {
   "cell_type": "markdown",
   "id": "c05f4e9e-b3da-48cd-8b7c-16abb724990a",
   "metadata": {},
   "source": [
    "**and**: returns True if both statements are true."
   ]
  },
  {
   "cell_type": "code",
   "execution_count": 40,
   "id": "d5332e85-eeb4-4cc6-bbb5-0cf01b1a2822",
   "metadata": {},
   "outputs": [
    {
     "data": {
      "text/plain": [
       "False"
      ]
     },
     "execution_count": 40,
     "metadata": {},
     "output_type": "execute_result"
    }
   ],
   "source": [
    "(5>3) and (4>5)"
   ]
  },
  {
   "cell_type": "markdown",
   "id": "4e9269b3-26b1-4069-88d3-f45193acc6fe",
   "metadata": {},
   "source": [
    "**or**: returns true if one of the statements is true."
   ]
  },
  {
   "cell_type": "code",
   "execution_count": 44,
   "id": "285c5f10-5eb9-4438-b678-278541754073",
   "metadata": {},
   "outputs": [
    {
     "data": {
      "text/plain": [
       "True"
      ]
     },
     "execution_count": 44,
     "metadata": {},
     "output_type": "execute_result"
    }
   ],
   "source": [
    "(5>3) or (4>5)"
   ]
  },
  {
   "cell_type": "markdown",
   "id": "7c3aae6d-e491-4bde-bee1-adedbce742fa",
   "metadata": {},
   "source": [
    "**not**: reverse the logical state of its operand"
   ]
  },
  {
   "cell_type": "code",
   "execution_count": 49,
   "id": "8957a3d0-f3e4-4008-87c4-0f44e55845c8",
   "metadata": {},
   "outputs": [
    {
     "data": {
      "text/plain": [
       "False"
      ]
     },
     "execution_count": 49,
     "metadata": {},
     "output_type": "execute_result"
    }
   ],
   "source": [
    "not(5>3)"
   ]
  },
  {
   "cell_type": "markdown",
   "id": "5771f50d-d075-42c8-abd8-98b887c59a4b",
   "metadata": {},
   "source": [
    "# ***Assignment operators***\n",
    "\n",
    "used to assign values to variables."
   ]
  },
  {
   "cell_type": "markdown",
   "id": "8023553a-a59f-4683-a273-c6510452c823",
   "metadata": {},
   "source": [
    "**=(Simple assignment)** : assigns values from right side operands to left side operand\n",
    "\n",
    "eg.c=a+b assigns value a+b to c"
   ]
  },
  {
   "cell_type": "markdown",
   "id": "37a2574a-5a0f-46e0-a5ec-29deafa62122",
   "metadata": {},
   "source": [
    "+=, -=, *=, /=, %=, //=, **= : perform the operation and assign the result.\n",
    "\n",
    "eg. a+=5 is equivalent to a=a+5"
   ]
  },
  {
   "cell_type": "markdown",
   "id": "33ff3ceb-e6cc-4edd-8347-aa2b269ca76a",
   "metadata": {},
   "source": [
    "# ***Bitwise operators***\n",
    "\n",
    "operate bit by bit on binary numbers."
   ]
  },
  {
   "cell_type": "markdown",
   "id": "078a4387-d943-495b-a290-7022f0083e21",
   "metadata": {},
   "source": [
    "- **&(AND)** : sets each bit to 1 , if both bits are 1\n",
    "- **|(OR)** : sets each bit to 1 , if one of two bit is 1\n",
    "- **^(XOR)** : sets each bit to 1 if only one of two bits is 1\n",
    "- **~(NOT)** : Inverts all bits\n",
    "- **<<(left shift)** : shifts the bits of the number to the left and fills 0 on voids\n",
    "- **>>(right shift)** : shifts the bits of the number to the right and fills the voids. left depending on sign"
   ]
  },
  {
   "cell_type": "markdown",
   "id": "7a721498-253a-434e-914a-c7ef6504891b",
   "metadata": {},
   "source": [
    "# ***Identity Operators***\n",
    "\n",
    "used to compare the memory locations of two objects.\n",
    "\n",
    "- **is** : evaluates to two if the variables on either sideof the operator point to the some object and false otherwise.\n",
    "- **is not** : evaluates to false if the variables on either side of the operator point to the some object and true otherwise."
   ]
  },
  {
   "cell_type": "markdown",
   "id": "84cb3097-0757-4afa-92e8-30d0e94e8dea",
   "metadata": {},
   "source": [
    "# ***Membership operators*** \n",
    "\n",
    "used to test whether a value or variable is found in a sequence(string,list,tuple.set and dictionary).\n",
    "\n",
    "These operators are fundamental to performing operations , making decisions and controlling the flow of execution in python scripts.\n",
    "\n",
    "- **in** : True if value/variable is found in the sequence.\n",
    "- **not in** : True if value/variable is not found in the sequence."
   ]
  },
  {
   "cell_type": "markdown",
   "id": "49edf736-33d1-45a7-acaf-2a96db0373e9",
   "metadata": {},
   "source": [
    "**1. Implement a program where a user enters their current savings and their monthly deposit. Use assignment operators to update their savinga account after adding their monthly deposit, including a monthly interest of 0.5%**"
   ]
  },
  {
   "cell_type": "code",
   "execution_count": 68,
   "id": "2ad7fd86-b7dd-4d8e-8adc-3f328a2edbd9",
   "metadata": {},
   "outputs": [
    {
     "name": "stdin",
     "output_type": "stream",
     "text": [
      "Enter your current savings =  450000\n",
      "Enter ypur monthly deposit =  4555\n"
     ]
    },
    {
     "name": "stdout",
     "output_type": "stream",
     "text": [
      "Updated savings is:456805.0\n"
     ]
    }
   ],
   "source": [
    "current_savings = int(input(\"Enter your current savings = \")) # get current savings\n",
    "monthly_deposit = int(input(\"Enter ypur monthly deposit = \"))\n",
    "\n",
    "# calculate monthly interest(0.5%)\n",
    "monthly_rate = 0.005\n",
    "\n",
    "# update savings by using assignment operators\n",
    "current_savings += current_savings * monthly_rate # added interest\n",
    "current_savings += monthly_deposit # added monthly deposit\n",
    "print(f\"Updated savings is:{current_savings}\")"
   ]
  },
  {
   "cell_type": "markdown",
   "id": "ef506966-6390-4da5-bc55-ed83f0bdb906",
   "metadata": {},
   "source": [
    "**2.Develop a system that evaluates a students performance based on scores from multiple categories(eg.tests,assignment,project and attendance). Each category should have different weight and the program should calculate the final score based on this weight . Include conditions where if the attendance score falls below threshold, it automatically reduces the final score by a certain percentage.**"
   ]
  },
  {
   "cell_type": "code",
   "execution_count": 73,
   "id": "40b2b572-28b4-4a0c-8266-8cf58e326b5d",
   "metadata": {},
   "outputs": [
    {
     "name": "stdin",
     "output_type": "stream",
     "text": [
      "Enter test score= 45\n",
      "Enter assignment score= 33\n",
      "Enter project score= 54\n",
      "Enter attendance score= 34\n"
     ]
    },
    {
     "name": "stdout",
     "output_type": "stream",
     "text": [
      "student will get penalty\n",
      "Your final score is =  38.78999999999999\n"
     ]
    }
   ],
   "source": [
    "# assigning the weight for each category\n",
    "test_weight = 0.3\n",
    "assignment_weight = 0.2\n",
    "project_weight = 0.3\n",
    "attendance_weight = 0.2\n",
    "\n",
    "student_attendance = 70 # declare student attendance value\n",
    "penalty = 0.1 # if you have low attendance than attendance value then you will get 10% penalty that is 0.1\n",
    "\n",
    "# take input from user\n",
    "test_score = float(input(\"Enter test score=\"))\n",
    "ass_score = float(input(\"Enter assignment score=\"))\n",
    "project_score = float(input(\"Enter project score=\"))\n",
    "attend_score =  float(input(\"Enter attendance score=\"))\n",
    "\n",
    "# calculate the total score with weights\n",
    "final_score = (test_score*test_weight)+(ass_score*assignment_weight)+(project_score*project_weight)+(attend_score*attendance_weight)\n",
    "\n",
    "# checking if student have low attendance or not\n",
    "if attend_score < student_attendance:\n",
    "    print(\"student will get penalty\")\n",
    "    final_score = final_score-(final_score * penalty)\n",
    "\n",
    "# final score\n",
    "print(\"Your final score is = \",final_score)"
   ]
  },
  {
   "cell_type": "markdown",
   "id": "f1bf6630-eb21-4f23-a823-380e902e089f",
   "metadata": {},
   "source": [
    "**3.write a program that calculate the compound interest on an initial investment over a given number of years. The user should take the input the initial amount the annual intrest rate the duration in year and a specific year when a withdrawal will be made.the program must adjust the calculation based on the withdraw**"
   ]
  },
  {
   "cell_type": "code",
   "execution_count": 80,
   "id": "b752df98-d49a-46fe-ad99-b1d0387623b5",
   "metadata": {},
   "outputs": [
    {
     "name": "stdin",
     "output_type": "stream",
     "text": [
      "Enter initial amount =  45000\n",
      "Enter annual rate =  3000\n",
      "Enter the year = 2020\n",
      "enter withdrawal year: 2025\n",
      "Enter the amount you want to withdraw : 10000\n"
     ]
    },
    {
     "name": "stdout",
     "output_type": "stream",
     "text": [
      "Final amount is : inf\n"
     ]
    }
   ],
   "source": [
    "initial_amount = float(input(\"Enter initial amount = \")) \n",
    "annual_rate = float(input(\"Enter annual rate = \"))  \n",
    "year = int(input(\"Enter the year =\"))\n",
    "withdrawal_year = int(input(\"enter withdrawal year:\")) \n",
    "withdrawal_amount = float(input(\"Enter the amount you want to withdraw :\")) \n",
    "\n",
    "for i in range(1,year + 1):  # range start from 1 to year + 1\n",
    "    initial_amount = initial_amount + (initial_amount *annual_rate / 100)  # add compound interest to current amount.\n",
    "    if i == withdrawal_year:  # if current year is withdrawal year then it subtract the withdrawal amount from  initial amount\n",
    "       initial_amount -=  withdrawal_amount\n",
    "print(\"Final amount is :\", initial_amount)"
   ]
  },
  {
   "cell_type": "markdown",
   "id": "266afc43-7ea4-45b7-b5d9-2de86f8f098f",
   "metadata": {},
   "source": [
    "**4.Implement a game where the computer randomly selects a number between 1 and 100,and the user has to guess it.after each guess the program tells the user whether their guess was too higher or too low.**"
   ]
  },
  {
   "cell_type": "code",
   "execution_count": null,
   "id": "87209bc3-5720-4c95-8608-2c97265de7c6",
   "metadata": {},
   "outputs": [],
   "source": []
  }
 ],
 "metadata": {
  "kernelspec": {
   "display_name": "Python 3 (ipykernel)",
   "language": "python",
   "name": "python3"
  },
  "language_info": {
   "codemirror_mode": {
    "name": "ipython",
    "version": 3
   },
   "file_extension": ".py",
   "mimetype": "text/x-python",
   "name": "python",
   "nbconvert_exporter": "python",
   "pygments_lexer": "ipython3",
   "version": "3.12.4"
  }
 },
 "nbformat": 4,
 "nbformat_minor": 5
}
